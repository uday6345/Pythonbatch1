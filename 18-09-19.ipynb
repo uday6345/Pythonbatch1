{
 "cells": [
  {
   "cell_type": "markdown",
   "metadata": {},
   "source": [
    "7segment"
   ]
  },
  {
   "cell_type": "code",
   "execution_count": null,
   "metadata": {},
   "outputs": [],
   "source": []
  },
  {
   "cell_type": "code",
   "execution_count": 1,
   "metadata": {},
   "outputs": [
    {
     "name": "stdout",
     "output_type": "stream",
     "text": [
      "2\n",
      "3\n",
      "5\n",
      "5\n",
      "123\n",
      "2\n",
      "5\n",
      "5\n",
      "17\n"
     ]
    }
   ],
   "source": [
    "h=int(input())\n",
    "c=0\n",
    "d={'0':6,'1':2,'2':5,'3':5,'4':4,'5':5,'6':6,'7':3,'8':7,'9':6}\n",
    "for i in range(h):\n",
    "    a=input()\n",
    "    for b in a:\n",
    "        print(d[b])\n",
    "        c=c+(d[b])\n",
    "    print(c)\n",
    "    "
   ]
  },
  {
   "cell_type": "markdown",
   "metadata": {},
   "source": [
    "maze problem"
   ]
  },
  {
   "cell_type": "code",
   "execution_count": 5,
   "metadata": {},
   "outputs": [
    {
     "name": "stdout",
     "output_type": "stream",
     "text": [
      "1 2\n",
      "0 0\n"
     ]
    }
   ],
   "source": [
    "c=input()\n",
    "x=0\n",
    "y=0\n",
    "for i in c:\n",
    "    if i=='l':\n",
    "        x=x-1\n",
    "    elif i=='r':\n",
    "            x=x+1\n",
    "    elif i=='u':\n",
    "            y=y+1\n",
    "    elif i=='d':\n",
    "            y=y-1\n",
    "print(x,y)"
   ]
  }
 ],
 "metadata": {
  "kernelspec": {
   "display_name": "Python 3",
   "language": "python",
   "name": "python3"
  },
  "language_info": {
   "codemirror_mode": {
    "name": "ipython",
    "version": 3
   },
   "file_extension": ".py",
   "mimetype": "text/x-python",
   "name": "python",
   "nbconvert_exporter": "python",
   "pygments_lexer": "ipython3",
   "version": "3.7.3"
  }
 },
 "nbformat": 4,
 "nbformat_minor": 2
}
